{
 "cells": [
  {
   "cell_type": "markdown",
   "id": "e8f51eaf",
   "metadata": {},
   "source": [
    "# CLV & Churn Model Training\n",
    "This notebook trains a model to predict Customer Lifetime Value (CLV) and churn probability, then saves it as `clv_model.pkl`."
   ]
  },
  {
   "cell_type": "code",
   "execution_count": 1,
   "id": "94706379",
   "metadata": {},
   "outputs": [],
   "source": [
    "import pandas as pd\n",
    "import numpy as np\n",
    "from sklearn.linear_model import LinearRegression, LogisticRegression\n",
    "from sklearn.model_selection import train_test_split\n",
    "from sklearn.metrics import mean_squared_error, accuracy_score\n",
    "import joblib"
   ]
  },
  {
   "cell_type": "code",
   "execution_count": 2,
   "id": "716252e9",
   "metadata": {},
   "outputs": [],
   "source": [
    "np.random.seed(42)\n",
    "n_samples = 500"
   ]
  },
  {
   "cell_type": "code",
   "execution_count": 3,
   "id": "57b57b7c",
   "metadata": {},
   "outputs": [],
   "source": [
    "data = pd.DataFrame({\n",
    "    'age': np.random.randint(18, 70, n_samples),\n",
    "    'income': np.random.randint(20000, 150000, n_samples),\n",
    "    'tenure': np.random.randint(1, 10, n_samples),\n",
    "    'num_purchases': np.random.randint(1, 50, n_samples),\n",
    "})"
   ]
  },
  {
   "cell_type": "code",
   "execution_count": 4,
   "id": "260b83e3",
   "metadata": {},
   "outputs": [],
   "source": [
    "data['clv'] = (\n",
    "    data['income'] * 0.05 +\n",
    "    data['tenure'] * 10 +\n",
    "    data['num_purchases'] * 2 +\n",
    "    np.random.normal(0, 100, n_samples)\n",
    ").astype(int)\n",
    "\n",
    "data['churn'] = np.where(\n",
    "    (data['tenure'] < 3) & (data['num_purchases'] < 10), 1, 0\n",
    ")"
   ]
  },
  {
   "cell_type": "code",
   "execution_count": 5,
   "id": "e15f5ede",
   "metadata": {},
   "outputs": [],
   "source": [
    "X_clv = data[['age', 'income', 'tenure', 'num_purchases']]\n",
    "y_clv = data['clv']\n",
    "\n",
    "X_clv_train, X_clv_test, y_clv_train, y_clv_test = train_test_split(X_clv, y_clv, test_size=0.2, random_state=42)\n",
    "\n",
    "clv_model = LinearRegression()\n",
    "clv_model.fit(X_clv_train, y_clv_train)\n",
    "\n",
    "y_clv_pred = clv_model.predict(X_clv_test)\n",
    "clv_mse = mean_squared_error(y_clv_test, y_clv_pred)"
   ]
  },
  {
   "cell_type": "code",
   "execution_count": 6,
   "id": "b0fbdcfe",
   "metadata": {},
   "outputs": [
    {
     "data": {
      "text/plain": [
       "['clv_model.pkl']"
      ]
     },
     "execution_count": 6,
     "metadata": {},
     "output_type": "execute_result"
    }
   ],
   "source": [
    "joblib.dump(clv_model, 'clv_model.pkl')"
   ]
  },
  {
   "cell_type": "code",
   "execution_count": 7,
   "id": "8e5bbee3",
   "metadata": {},
   "outputs": [],
   "source": [
    "y_churn = data['churn']\n",
    "\n",
    "X_churn_train, X_churn_test, y_churn_train, y_churn_test = train_test_split(X_clv, y_churn, test_size=0.2, random_state=42)\n",
    "\n",
    "churn_model = LogisticRegression()\n",
    "churn_model.fit(X_churn_train, y_churn_train)\n",
    "\n",
    "y_churn_pred = churn_model.predict(X_churn_test)\n",
    "churn_acc = accuracy_score(y_churn_test, y_churn_pred)"
   ]
  },
  {
   "cell_type": "code",
   "execution_count": 8,
   "id": "c60cc518",
   "metadata": {},
   "outputs": [
    {
     "data": {
      "text/plain": [
       "['churn_model.pkl']"
      ]
     },
     "execution_count": 8,
     "metadata": {},
     "output_type": "execute_result"
    }
   ],
   "source": [
    "joblib.dump(churn_model, 'churn_model.pkl')"
   ]
  },
  {
   "cell_type": "code",
   "execution_count": 9,
   "id": "24acad56",
   "metadata": {},
   "outputs": [
    {
     "name": "stdout",
     "output_type": "stream",
     "text": [
      "CLV Model Mean Squared Error: 10886.70675393371\n",
      "Churn Model Accuracy: 0.97\n"
     ]
    }
   ],
   "source": [
    "print(\"CLV Model Mean Squared Error:\", clv_mse)\n",
    "print(\"Churn Model Accuracy:\", churn_acc)"
   ]
  }
 ],
 "metadata": {
  "kernelspec": {
   "display_name": "Python 3",
   "language": "python",
   "name": "python3"
  },
  "language_info": {
   "codemirror_mode": {
    "name": "ipython",
    "version": 3
   },
   "file_extension": ".py",
   "mimetype": "text/x-python",
   "name": "python",
   "nbconvert_exporter": "python",
   "pygments_lexer": "ipython3",
   "version": "3.10.0"
  }
 },
 "nbformat": 4,
 "nbformat_minor": 5
}
